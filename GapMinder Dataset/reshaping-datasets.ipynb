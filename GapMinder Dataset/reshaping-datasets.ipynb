{
 "cells": [
  {
   "cell_type": "markdown",
   "metadata": {},
   "source": [
    "*(Note: this is file 2 of 3 submitted for evaluation)*\n",
    "\n",
    "## Investigate Datasets for Inflation, Life Expectancy at Birth, and Forest Coverage - Part 2 ##"
   ]
  },
  {
   "cell_type": "markdown",
   "metadata": {},
   "source": [
    "## Data Wrangling (continued) - Comparing cleaned datasets\n",
    "\n",
    "I have three cleaned datasets stored in the following files:\n",
    "1. forest_cleaned.csv\n",
    "2. inflation_cleaned.csv\n",
    "3. life_expectancy_cleaned.csv\n",
    "\n",
    "Here I'll compare the three datasets and see if there are any changes required for analysis."
   ]
  },
  {
   "cell_type": "code",
   "execution_count": 1,
   "metadata": {
    "collapsed": true
   },
   "outputs": [],
   "source": [
    "import pandas as pd\n",
    "import numpy as np\n",
    "\n",
    "df_forest = pd.read_csv('forest_cleaned.csv')\n",
    "df_inflation = pd.read_csv('inflation_cleaned.csv')\n",
    "df_life = pd.read_csv('life_expectancy_cleaned.csv')"
   ]
  },
  {
   "cell_type": "code",
   "execution_count": 2,
   "metadata": {
    "collapsed": true
   },
   "outputs": [],
   "source": [
    "df_forest = df_forest.set_index('country')\n",
    "df_inflation = df_inflation.set_index('country')\n",
    "df_life = df_life.set_index('country')"
   ]
  },
  {
   "cell_type": "markdown",
   "metadata": {},
   "source": [
    "## Comparing inflation dataset with life expectancy dataset ##\n",
    "\n",
    "I need to make sure that I have data for the same countries and time period in all the datasets, sao I can compare them. Here I noticed the following issues.\n",
    "1. The inflation dataset has data between 1961 and 2011, while the life expectancy dataset has datapoints dating 1800 onwards. We need to have the time period consistent across both these datasets. \n",
    "2. The inflation dataset has data for 204 countries, while life expectancy dataset has info for only 201 countries. We need to check whether there are any countries missing in either dataset."
   ]
  },
  {
   "cell_type": "code",
   "execution_count": 3,
   "metadata": {},
   "outputs": [
    {
     "data": {
      "text/plain": [
       "(204, 51)"
      ]
     },
     "execution_count": 3,
     "metadata": {},
     "output_type": "execute_result"
    }
   ],
   "source": [
    "df_inflation.shape"
   ]
  },
  {
   "cell_type": "code",
   "execution_count": 4,
   "metadata": {},
   "outputs": [
    {
     "data": {
      "text/plain": [
       "(201, 217)"
      ]
     },
     "execution_count": 4,
     "metadata": {},
     "output_type": "execute_result"
    }
   ],
   "source": [
    "df_life.shape"
   ]
  },
  {
   "cell_type": "code",
   "execution_count": 5,
   "metadata": {},
   "outputs": [
    {
     "data": {
      "text/plain": [
       "160"
      ]
     },
     "execution_count": 5,
     "metadata": {},
     "output_type": "execute_result"
    }
   ],
   "source": [
    "# Get the location of the column for year 1960\n",
    "df_life.columns.get_loc('1960')"
   ]
  },
  {
   "cell_type": "code",
   "execution_count": 6,
   "metadata": {
    "collapsed": true,
    "scrolled": false
   },
   "outputs": [],
   "source": [
    "# Removing columns before year 1961 from life dataset\n",
    "df_life = df_life.iloc[:,161:212]"
   ]
  },
  {
   "cell_type": "code",
   "execution_count": 7,
   "metadata": {},
   "outputs": [
    {
     "data": {
      "text/html": [
       "<div>\n",
       "<style>\n",
       "    .dataframe thead tr:only-child th {\n",
       "        text-align: right;\n",
       "    }\n",
       "\n",
       "    .dataframe thead th {\n",
       "        text-align: left;\n",
       "    }\n",
       "\n",
       "    .dataframe tbody tr th {\n",
       "        vertical-align: top;\n",
       "    }\n",
       "</style>\n",
       "<table border=\"1\" class=\"dataframe\">\n",
       "  <thead>\n",
       "    <tr style=\"text-align: right;\">\n",
       "      <th></th>\n",
       "      <th>1961</th>\n",
       "      <th>1962</th>\n",
       "      <th>1963</th>\n",
       "      <th>1964</th>\n",
       "      <th>1965</th>\n",
       "      <th>1966</th>\n",
       "      <th>1967</th>\n",
       "      <th>1968</th>\n",
       "      <th>1969</th>\n",
       "      <th>1970</th>\n",
       "      <th>...</th>\n",
       "      <th>2002</th>\n",
       "      <th>2003</th>\n",
       "      <th>2004</th>\n",
       "      <th>2005</th>\n",
       "      <th>2006</th>\n",
       "      <th>2007</th>\n",
       "      <th>2008</th>\n",
       "      <th>2009</th>\n",
       "      <th>2010</th>\n",
       "      <th>2011</th>\n",
       "    </tr>\n",
       "    <tr>\n",
       "      <th>country</th>\n",
       "      <th></th>\n",
       "      <th></th>\n",
       "      <th></th>\n",
       "      <th></th>\n",
       "      <th></th>\n",
       "      <th></th>\n",
       "      <th></th>\n",
       "      <th></th>\n",
       "      <th></th>\n",
       "      <th></th>\n",
       "      <th></th>\n",
       "      <th></th>\n",
       "      <th></th>\n",
       "      <th></th>\n",
       "      <th></th>\n",
       "      <th></th>\n",
       "      <th></th>\n",
       "      <th></th>\n",
       "      <th></th>\n",
       "      <th></th>\n",
       "      <th></th>\n",
       "    </tr>\n",
       "  </thead>\n",
       "  <tbody>\n",
       "    <tr>\n",
       "      <th>Afghanistan</th>\n",
       "      <td>32.47</td>\n",
       "      <td>33.01</td>\n",
       "      <td>33.53</td>\n",
       "      <td>34.07</td>\n",
       "      <td>34.60</td>\n",
       "      <td>35.13</td>\n",
       "      <td>35.66</td>\n",
       "      <td>36.17</td>\n",
       "      <td>36.69</td>\n",
       "      <td>37.20</td>\n",
       "      <td>...</td>\n",
       "      <td>51.0</td>\n",
       "      <td>51.4</td>\n",
       "      <td>51.8</td>\n",
       "      <td>52.0</td>\n",
       "      <td>52.1</td>\n",
       "      <td>52.4</td>\n",
       "      <td>52.8</td>\n",
       "      <td>53.3</td>\n",
       "      <td>53.6</td>\n",
       "      <td>54.0</td>\n",
       "    </tr>\n",
       "    <tr>\n",
       "      <th>Albania</th>\n",
       "      <td>63.92</td>\n",
       "      <td>64.84</td>\n",
       "      <td>65.60</td>\n",
       "      <td>66.18</td>\n",
       "      <td>66.59</td>\n",
       "      <td>66.88</td>\n",
       "      <td>67.11</td>\n",
       "      <td>67.32</td>\n",
       "      <td>67.55</td>\n",
       "      <td>67.83</td>\n",
       "      <td>...</td>\n",
       "      <td>75.5</td>\n",
       "      <td>75.7</td>\n",
       "      <td>75.9</td>\n",
       "      <td>76.2</td>\n",
       "      <td>76.4</td>\n",
       "      <td>76.6</td>\n",
       "      <td>76.8</td>\n",
       "      <td>77.0</td>\n",
       "      <td>77.2</td>\n",
       "      <td>77.4</td>\n",
       "    </tr>\n",
       "    <tr>\n",
       "      <th>Algeria</th>\n",
       "      <td>48.02</td>\n",
       "      <td>48.55</td>\n",
       "      <td>49.07</td>\n",
       "      <td>49.58</td>\n",
       "      <td>50.09</td>\n",
       "      <td>50.58</td>\n",
       "      <td>51.05</td>\n",
       "      <td>51.49</td>\n",
       "      <td>51.95</td>\n",
       "      <td>52.41</td>\n",
       "      <td>...</td>\n",
       "      <td>73.8</td>\n",
       "      <td>73.9</td>\n",
       "      <td>74.4</td>\n",
       "      <td>74.8</td>\n",
       "      <td>75.0</td>\n",
       "      <td>75.3</td>\n",
       "      <td>75.5</td>\n",
       "      <td>75.7</td>\n",
       "      <td>76.0</td>\n",
       "      <td>76.1</td>\n",
       "    </tr>\n",
       "    <tr>\n",
       "      <th>Angola</th>\n",
       "      <td>36.53</td>\n",
       "      <td>37.08</td>\n",
       "      <td>37.63</td>\n",
       "      <td>38.18</td>\n",
       "      <td>38.74</td>\n",
       "      <td>39.28</td>\n",
       "      <td>39.84</td>\n",
       "      <td>40.39</td>\n",
       "      <td>40.95</td>\n",
       "      <td>41.50</td>\n",
       "      <td>...</td>\n",
       "      <td>53.3</td>\n",
       "      <td>53.9</td>\n",
       "      <td>54.5</td>\n",
       "      <td>55.2</td>\n",
       "      <td>55.7</td>\n",
       "      <td>56.2</td>\n",
       "      <td>56.7</td>\n",
       "      <td>57.1</td>\n",
       "      <td>57.6</td>\n",
       "      <td>58.1</td>\n",
       "    </tr>\n",
       "    <tr>\n",
       "      <th>Antigua and Barbuda</th>\n",
       "      <td>63.46</td>\n",
       "      <td>63.93</td>\n",
       "      <td>64.38</td>\n",
       "      <td>64.81</td>\n",
       "      <td>65.23</td>\n",
       "      <td>65.63</td>\n",
       "      <td>66.03</td>\n",
       "      <td>66.41</td>\n",
       "      <td>66.81</td>\n",
       "      <td>67.19</td>\n",
       "      <td>...</td>\n",
       "      <td>74.3</td>\n",
       "      <td>74.5</td>\n",
       "      <td>74.6</td>\n",
       "      <td>74.9</td>\n",
       "      <td>74.9</td>\n",
       "      <td>75.3</td>\n",
       "      <td>75.5</td>\n",
       "      <td>75.7</td>\n",
       "      <td>75.8</td>\n",
       "      <td>75.9</td>\n",
       "    </tr>\n",
       "  </tbody>\n",
       "</table>\n",
       "<p>5 rows × 51 columns</p>\n",
       "</div>"
      ],
      "text/plain": [
       "                      1961   1962   1963   1964   1965   1966   1967   1968  \\\n",
       "country                                                                       \n",
       "Afghanistan          32.47  33.01  33.53  34.07  34.60  35.13  35.66  36.17   \n",
       "Albania              63.92  64.84  65.60  66.18  66.59  66.88  67.11  67.32   \n",
       "Algeria              48.02  48.55  49.07  49.58  50.09  50.58  51.05  51.49   \n",
       "Angola               36.53  37.08  37.63  38.18  38.74  39.28  39.84  40.39   \n",
       "Antigua and Barbuda  63.46  63.93  64.38  64.81  65.23  65.63  66.03  66.41   \n",
       "\n",
       "                      1969   1970  ...   2002  2003  2004  2005  2006  2007  \\\n",
       "country                            ...                                        \n",
       "Afghanistan          36.69  37.20  ...   51.0  51.4  51.8  52.0  52.1  52.4   \n",
       "Albania              67.55  67.83  ...   75.5  75.7  75.9  76.2  76.4  76.6   \n",
       "Algeria              51.95  52.41  ...   73.8  73.9  74.4  74.8  75.0  75.3   \n",
       "Angola               40.95  41.50  ...   53.3  53.9  54.5  55.2  55.7  56.2   \n",
       "Antigua and Barbuda  66.81  67.19  ...   74.3  74.5  74.6  74.9  74.9  75.3   \n",
       "\n",
       "                     2008  2009  2010  2011  \n",
       "country                                      \n",
       "Afghanistan          52.8  53.3  53.6  54.0  \n",
       "Albania              76.8  77.0  77.2  77.4  \n",
       "Algeria              75.5  75.7  76.0  76.1  \n",
       "Angola               56.7  57.1  57.6  58.1  \n",
       "Antigua and Barbuda  75.5  75.7  75.8  75.9  \n",
       "\n",
       "[5 rows x 51 columns]"
      ]
     },
     "execution_count": 7,
     "metadata": {},
     "output_type": "execute_result"
    }
   ],
   "source": [
    "df_life.head()"
   ]
  },
  {
   "cell_type": "markdown",
   "metadata": {},
   "source": [
    "### Removing unmatching datapoints in the datasets: Inflation and Life Expectancy ###\n",
    "\n",
    "We now have the same number of columns in both 'life' and 'inflation' dataset. It might still be possible that one dataset has different countries than the other. Let's find the unmatching datapoints and remove them."
   ]
  },
  {
   "cell_type": "code",
   "execution_count": 8,
   "metadata": {
    "scrolled": true
   },
   "outputs": [
    {
     "data": {
      "text/plain": [
       "Index(['Andorra', 'Bermuda', 'Cayman Islands', 'Channel Islands', 'Dominica',\n",
       "       'Isle of Man', 'Kosovo', 'Liechtenstein', 'Marshall Islands', 'Monaco',\n",
       "       'Palau', 'San Marino', 'St. Kitts and Nevis', 'Tuvalu'],\n",
       "      dtype='object', name='country')"
      ]
     },
     "execution_count": 8,
     "metadata": {},
     "output_type": "execute_result"
    }
   ],
   "source": [
    "# countries unique to inflation dataset\n",
    "df_inflation.index.difference(df_life.index)"
   ]
  },
  {
   "cell_type": "code",
   "execution_count": 9,
   "metadata": {
    "scrolled": true
   },
   "outputs": [
    {
     "data": {
      "text/plain": [
       "Index(['French Guiana', 'Guadeloupe', 'Guam', 'Martinique', 'Mayotte',\n",
       "       'Netherlands Antilles', 'North Korea', 'Reunion', 'South Sudan',\n",
       "       'Taiwan', 'Western Sahara'],\n",
       "      dtype='object', name='country')"
      ]
     },
     "execution_count": 9,
     "metadata": {},
     "output_type": "execute_result"
    }
   ],
   "source": [
    "# countries unique to life dataset\n",
    "df_life.index.difference(df_inflation.index)"
   ]
  },
  {
   "cell_type": "code",
   "execution_count": 10,
   "metadata": {
    "collapsed": true
   },
   "outputs": [],
   "source": [
    "# Dropping unmatching data points\n",
    "df_inflation.drop(['Andorra', 'Bermuda', 'Cayman Islands', 'Channel Islands', 'Dominica',\n",
    "       'Isle of Man', 'Kosovo', 'Liechtenstein', 'Marshall Islands', 'Monaco',\n",
    "       'Palau', 'San Marino', 'St. Kitts and Nevis', 'Tuvalu'], inplace=True)"
   ]
  },
  {
   "cell_type": "code",
   "execution_count": 11,
   "metadata": {},
   "outputs": [
    {
     "data": {
      "text/plain": [
       "(190, 51)"
      ]
     },
     "execution_count": 11,
     "metadata": {},
     "output_type": "execute_result"
    }
   ],
   "source": [
    "df_inflation.shape"
   ]
  },
  {
   "cell_type": "code",
   "execution_count": 12,
   "metadata": {},
   "outputs": [
    {
     "data": {
      "text/plain": [
       "(190, 51)"
      ]
     },
     "execution_count": 12,
     "metadata": {},
     "output_type": "execute_result"
    }
   ],
   "source": [
    "df_life.drop(['French Guiana', 'Guadeloupe', 'Guam', 'Martinique', 'Mayotte',\n",
    "       'Netherlands Antilles', 'North Korea', 'Reunion', 'South Sudan',\n",
    "       'Taiwan', 'Western Sahara'], inplace=True)\n",
    "df_life.shape"
   ]
  },
  {
   "cell_type": "markdown",
   "metadata": {},
   "source": [
    "We now have the data for the same tiem period and for the same countries in both these datasets. Now I'll move to the third dataset."
   ]
  },
  {
   "cell_type": "markdown",
   "metadata": {},
   "source": [
    "## Comparing forest dataset with the cleaned inflation and life expectancy datasets ##\n",
    "\n",
    "Let's check the forest dataframe and compare it with either of the two cleaned datasets. I'll remove any unmatched countries present in the forest dataset."
   ]
  },
  {
   "cell_type": "code",
   "execution_count": 13,
   "metadata": {},
   "outputs": [
    {
     "data": {
      "text/plain": [
       "Index(['American Samoa', 'Andorra', 'Anguilla', 'Bermuda',\n",
       "       'British Indian Ocean Territory', 'British Virgin Islands',\n",
       "       'Cayman Islands', 'Central African Rep.', 'Channel Islands',\n",
       "       'Cook Islands', 'Czech Rep.', 'Dominica', 'Dominican Rep.',\n",
       "       'French Guiana', 'Guadeloupe', 'Guam', 'Isle of Man',\n",
       "       'Korea, Dem. Rep.', 'Korea, Rep.', 'Kyrgyzstan', 'Laos',\n",
       "       'Liechtenstein', 'Martinique', 'Mayotte', 'Montserrat',\n",
       "       'Netherlands Antilles', 'Niue', 'Northern Mariana Islands', 'Palau',\n",
       "       'Pitcairn', 'Reunion', 'Saint Helena', 'Saint Kitts and Nevis',\n",
       "       'Saint Lucia', 'Saint Vincent and the Grenadines',\n",
       "       'Saint-Pierre-et-Miquelon', 'Serbia and Montenegro',\n",
       "       'Turks and Caicos Islands', 'Tuvalu', 'Wallis et Futuna',\n",
       "       'Western Sahara', 'Yemen, Rep.'],\n",
       "      dtype='object', name='country')"
      ]
     },
     "execution_count": 13,
     "metadata": {},
     "output_type": "execute_result"
    }
   ],
   "source": [
    "df_forest.index.difference(df_inflation.index)"
   ]
  },
  {
   "cell_type": "code",
   "execution_count": 14,
   "metadata": {},
   "outputs": [
    {
     "data": {
      "text/plain": [
       "(172, 3)"
      ]
     },
     "execution_count": 14,
     "metadata": {},
     "output_type": "execute_result"
    }
   ],
   "source": [
    "df_forest.drop(['American Samoa', 'Andorra', 'Anguilla', 'Bermuda',\n",
    "       'British Indian Ocean Territory', 'British Virgin Islands',\n",
    "       'Cayman Islands', 'Central African Rep.', 'Channel Islands',\n",
    "       'Cook Islands', 'Czech Rep.', 'Dominica', 'Dominican Rep.',\n",
    "       'French Guiana', 'Guadeloupe', 'Guam', 'Isle of Man',\n",
    "       'Korea, Dem. Rep.', 'Korea, Rep.', 'Kyrgyzstan', 'Laos',\n",
    "       'Liechtenstein', 'Martinique', 'Mayotte', 'Montserrat',\n",
    "       'Netherlands Antilles', 'Niue', 'Northern Mariana Islands', 'Palau',\n",
    "       'Pitcairn', 'Reunion', 'Saint Helena', 'Saint Kitts and Nevis',\n",
    "       'Saint Lucia', 'Saint Vincent and the Grenadines',\n",
    "       'Saint-Pierre-et-Miquelon', 'Serbia and Montenegro',\n",
    "       'Turks and Caicos Islands', 'Tuvalu', 'Wallis et Futuna',\n",
    "       'Western Sahara', 'Yemen, Rep.'], inplace=True)\n",
    "df_forest.shape"
   ]
  },
  {
   "cell_type": "markdown",
   "metadata": {},
   "source": [
    "### Going back to inflation and life_expectancy datasets to clean them ##\n",
    "\n",
    "Looks like there is still some data in the life and inflation dataset that we might need to lose if we want to be able to compare it with forest dataset. There are some countries for which we have no forest data. For comparison purposes we need to lose that data."
   ]
  },
  {
   "cell_type": "code",
   "execution_count": 15,
   "metadata": {},
   "outputs": [
    {
     "data": {
      "text/plain": [
       "(172, 51)"
      ]
     },
     "execution_count": 15,
     "metadata": {},
     "output_type": "execute_result"
    }
   ],
   "source": [
    "inflation_extra_rows = df_inflation.index.difference(df_forest.index)\n",
    "df_inflation.drop(inflation_extra_rows, inplace=True)\n",
    "df_inflation.shape"
   ]
  },
  {
   "cell_type": "code",
   "execution_count": 16,
   "metadata": {},
   "outputs": [
    {
     "data": {
      "text/plain": [
       "(172, 51)"
      ]
     },
     "execution_count": 16,
     "metadata": {},
     "output_type": "execute_result"
    }
   ],
   "source": [
    "life_extra_rows = df_life.index.difference(df_forest.index)\n",
    "df_life.drop(life_extra_rows, inplace=True)\n",
    "df_life.shape"
   ]
  },
  {
   "cell_type": "markdown",
   "metadata": {},
   "source": [
    "### Saving cleaned datasets ###\n",
    "\n",
    "At this point all our datasets have the same number of countries, and the 'inflation' and 'life' datasets have data for the same years. Let's save this finally cleaned data and start our analysis."
   ]
  },
  {
   "cell_type": "code",
   "execution_count": 17,
   "metadata": {
    "collapsed": true
   },
   "outputs": [],
   "source": [
    "df_forest.to_csv('cleaned_forest_final.csv', index=True)\n",
    "df_inflation.to_csv('cleaned_inflation_final.csv', index=True)\n",
    "df_life.to_csv('cleaned_life_final.csv', index=True)"
   ]
  },
  {
   "cell_type": "code",
   "execution_count": null,
   "metadata": {
    "collapsed": true
   },
   "outputs": [],
   "source": []
  }
 ],
 "metadata": {
  "kernelspec": {
   "display_name": "Python 3",
   "language": "python",
   "name": "python3"
  },
  "language_info": {
   "codemirror_mode": {
    "name": "ipython",
    "version": 3
   },
   "file_extension": ".py",
   "mimetype": "text/x-python",
   "name": "python",
   "nbconvert_exporter": "python",
   "pygments_lexer": "ipython3",
   "version": "3.6.3"
  }
 },
 "nbformat": 4,
 "nbformat_minor": 2
}
