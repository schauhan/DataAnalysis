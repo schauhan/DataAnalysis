{
 "cells": [
  {
   "cell_type": "markdown",
   "metadata": {},
   "source": [
    "# 2016 US Bike Share Activity Snapshot\n",
    "\n",
    "## Table of Contents\n",
    "- [Introduction](#intro)\n",
    "- [Posing Questions](#pose_questions)\n",
    "- [Data Collection and Wrangling](#wrangling)\n",
    "  - [Condensing the Trip Data](#condensing)\n",
    "- [Exploratory Data Analysis](#eda)\n",
    "  - [Statistics](#statistics)\n",
    "      - [Conclusion - City with highest number of trips](#sc1)\n",
    "      - [Conclusion - Trip Length](#sc2)\n",
    "      - [Conclusion - Subscriber vs Consumer riding time ](#sc3)\n",
    "  - [Visualizations](#visualizations)\n",
    "- [Performing Further Analysis - Chicago](#eda_continued)\n",
    "- [Conclusions](#conclusions)\n",
    "\n",
    "<a id='intro'></a>\n",
    "## Introduction\n",
    "\n",
    "Over the past decade, bicycle-sharing systems have been growing in number and popularity in cities across the world. Bicycle-sharing systems allow users to rent bicycles for short trips, typically 30 minutes or less. Thanks to the rise in information technologies, it is easy for a user of the system to access a dock within the system to unlock or return bicycles. These technologies also provide a wealth of data that can be used to explore how these bike-sharing systems are used.\n",
    "\n",
    "In this project, I perform perform an exploratory analysis on data provided by [Motivate](https://www.motivateco.com/), a bike-share system provider for many major cities in the United States. I compare the system usage between three large cities: New York City, Chicago, and Washington, DC. I'll also see if there are any differences within each system for those users that are registered, regular users and those users that are short-term, casual users."
   ]
  },
  {
   "cell_type": "markdown",
   "metadata": {},
   "source": [
    "<a id='pose_questions'></a>\n",
    "## Posing Questions\n",
    "\n",
    "Before looking at the bike sharing data, I need to start by asking questions I want to understand about the bike share data. I ask a few questions below and in the rest of the analysis I'll try to answer them.\n",
    "\n",
    "**Question 1**: Which days have the highest customer traffic at the bike rental stations?\n",
    "\n",
    "**Question 2**: Which cities have the highest number of bike users?\n",
    "\n",
    "**Question 3**: Which cities has the highest number of repeat customers?\n",
    "\n",
    "**Question 4**: How long do the people ride on average, by day of week?"
   ]
  },
  {
   "cell_type": "markdown",
   "metadata": {},
   "source": [
    "<a id='wrangling'></a>\n",
    "## Data Collection and Wrangling\n",
    "\n",
    "Now it's time to collect and explore our data. In this project, we will focus on the record of individual trips taken in 2016 from our selected cities: New York City, Chicago, and Washington, DC. Each of these cities has a page where we can freely download the trip data.:\n",
    "\n",
    "- New York City (Citi Bike): [Link](https://www.citibikenyc.com/system-data)\n",
    "- Chicago (Divvy): [Link](https://www.divvybikes.com/system-data)\n",
    "- Washington, DC (Capital Bikeshare): [Link](https://www.capitalbikeshare.com/system-data)\n",
    "\n",
    "The data has already been collected in the `/data/` folder of the project files. While the original data for 2016 is spread among multiple files for each city, the files in the `/data/` folder collect all of the trip data for the year into one file per city. A random 2% sample of the original data is taken to make the exploration more manageable.\n",
    "\n",
    "I'll start off by looking at the dataset available. Below I use the functions available in Python, such as **pprint()** instead of using Pandas **dataframe**, just as an example."
   ]
  },
  {
   "cell_type": "code",
   "execution_count": 14,
   "metadata": {
    "collapsed": true
   },
   "outputs": [],
   "source": [
    "## import all necessary packages and functions.\n",
    "import csv # read and write csv files\n",
    "from datetime import datetime # operations to parse dates\n",
    "from pprint import pprint # use to print data structures like dictionaries in\n",
    "                          # a nicer way than the base print function.\n",
    "import statistics"
   ]
  },
  {
   "cell_type": "code",
   "execution_count": 15,
   "metadata": {
    "scrolled": false
   },
   "outputs": [
    {
     "name": "stdout",
     "output_type": "stream",
     "text": [
      "\n",
      "City: NYC\n",
      "OrderedDict([('tripduration', '839'),\n",
      "             ('starttime', '1/1/2016 00:09:55'),\n",
      "             ('stoptime', '1/1/2016 00:23:54'),\n",
      "             ('start station id', '532'),\n",
      "             ('start station name', 'S 5 Pl & S 4 St'),\n",
      "             ('start station latitude', '40.710451'),\n",
      "             ('start station longitude', '-73.960876'),\n",
      "             ('end station id', '401'),\n",
      "             ('end station name', 'Allen St & Rivington St'),\n",
      "             ('end station latitude', '40.72019576'),\n",
      "             ('end station longitude', '-73.98997825'),\n",
      "             ('bikeid', '17109'),\n",
      "             ('usertype', 'Customer'),\n",
      "             ('birth year', ''),\n",
      "             ('gender', '0')])\n",
      "\n",
      "City: Chicago\n",
      "OrderedDict([('trip_id', '9080545'),\n",
      "             ('starttime', '3/31/2016 23:30'),\n",
      "             ('stoptime', '3/31/2016 23:46'),\n",
      "             ('bikeid', '2295'),\n",
      "             ('tripduration', '926'),\n",
      "             ('from_station_id', '156'),\n",
      "             ('from_station_name', 'Clark St & Wellington Ave'),\n",
      "             ('to_station_id', '166'),\n",
      "             ('to_station_name', 'Ashland Ave & Wrightwood Ave'),\n",
      "             ('usertype', 'Subscriber'),\n",
      "             ('gender', 'Male'),\n",
      "             ('birthyear', '1990')])\n",
      "\n",
      "City: Washington\n",
      "OrderedDict([('Duration (ms)', '427387'),\n",
      "             ('Start date', '3/31/2016 22:57'),\n",
      "             ('End date', '3/31/2016 23:04'),\n",
      "             ('Start station number', '31602'),\n",
      "             ('Start station', 'Park Rd & Holmead Pl NW'),\n",
      "             ('End station number', '31207'),\n",
      "             ('End station', 'Georgia Ave and Fairmont St NW'),\n",
      "             ('Bike number', 'W20842'),\n",
      "             ('Member Type', 'Registered')])\n"
     ]
    }
   ],
   "source": [
    "def print_first_point(filename):\n",
    "    \"\"\"\n",
    "    This function prints and returns the first data point (second row) from\n",
    "    a csv file that includes a header row.\n",
    "    \"\"\"\n",
    "    # print city name for reference\n",
    "    city = filename.split('-')[0].split('/')[-1]\n",
    "    print('\\nCity: {}'.format(city))\n",
    "    \n",
    "    with open(filename, 'r') as f_in:\n",
    "        ## Use the csv library to set up a DictReader object. ##\n",
    "        ## see https://docs.python.org/3/library/csv.html           ##\n",
    "        trip_reader = csv.DictReader(f_in)\n",
    "        \n",
    "        ## Use a function on the DictReader object to read the     ##\n",
    "        ## first trip from the data file and store it in a variable.     ##\n",
    "        ## see https://docs.python.org/3/library/csv.html#reader-objects ##\n",
    "        first_trip = next(trip_reader)\n",
    "        \n",
    "        ## Use the pprint library to print the first trip. ##\n",
    "        ## see https://docs.python.org/3/library/pprint.html     ##\n",
    "        pprint(first_trip)\n",
    "        \n",
    "    # output city name and first trip for later testing\n",
    "    return (city, first_trip)\n",
    "\n",
    "# list of files for each city\n",
    "data_files = ['./data/NYC-CitiBike-2016.csv',\n",
    "              './data/Chicago-Divvy-2016.csv',\n",
    "              './data/Washington-CapitalBikeshare-2016.csv',]\n",
    "\n",
    "# print the first trip from each file, store in dictionary\n",
    "example_trips = {}\n",
    "for data_file in data_files:\n",
    "    city, first_trip = print_first_point(data_file)\n",
    "    example_trips[city] = first_trip"
   ]
  },
  {
   "cell_type": "markdown",
   "metadata": {},
   "source": [
    "<a id='condensing'></a>\n",
    "### Condensing the Trip Data\n",
    "\n",
    "The above printout shows that each city provides different information. Even where the information is the same, the column names and formats are sometimes different. To make things as simple as possible when we get to the actual exploration, we need to trim and clean the data.\n",
    "\n",
    "I'll generate new data files with five values of interest for each trip: trip duration, starting month, starting hour, day of the week, and user type. Each of these may require additional wrangling depending on the city:\n",
    "\n",
    "- **Duration**: This has been given to us in seconds (New York, Chicago) or milliseconds (Washington). A more natural unit of analysis will be if all the trip durations are given in terms of minutes.\n",
    "- **Month**, **Hour**, **Day of Week**: Ridership volume is likely to change based on the season, time of day, and whether it is a weekday or weekend. Use the start time of the trip to obtain these values. The New York City data includes the seconds in their timestamps, while Washington and Chicago do not. The [`datetime`](https://docs.python.org/3/library/datetime.html) package will be very useful here to make the needed conversions.\n",
    "- **User Type**: It is possible that users who are subscribed to a bike-share system will have different patterns of use compared to users who only have temporary passes. Washington divides its users into two types: 'Registered' for users with annual, monthly, and other longer-term subscriptions, and 'Casual', for users with 24-hour, 3-day, and other short-term passes. The New York and Chicago data uses 'Subscriber' and 'Customer' for these groups, respectively. For consistency, you will convert the Washington labels to match the other two.\n",
    "\n",
    "\n",
    "**Helper functions**: Below are a few helper functions to address each of the cleaning tasks described above."
   ]
  },
  {
   "cell_type": "code",
   "execution_count": 16,
   "metadata": {
    "collapsed": true
   },
   "outputs": [],
   "source": [
    "def duration_in_mins(datum, city):\n",
    "    \"\"\"\n",
    "    Takes as input a dictionary containing info about a single trip (datum) and\n",
    "    its origin city (city) and returns the trip duration in units of minutes.\n",
    "    \n",
    "    Washington is in terms of milliseconds while Chicago and NYC\n",
    "    are in terms of seconds. \n",
    "    \"\"\"\n",
    "    trip_duration = 0\n",
    "    \n",
    "    if city=='Chicago':\n",
    "        trip_duration = float(datum['tripduration'])\n",
    "        trip_duration_min = trip_duration/60\n",
    "    elif city=='NYC':\n",
    "        trip_duration = float(datum['tripduration'])\n",
    "        trip_duration_min = trip_duration/60   \n",
    "    else:\n",
    "        trip_duration_ms = float(datum['Duration (ms)'])\n",
    "        trip_duration_min = trip_duration_ms/(60*1000)\n",
    "\n",
    "    return trip_duration_min\n",
    "\n",
    "\n",
    "# Some tests to check that your code works.\n",
    "tests = {'NYC': 13.9833,\n",
    "         'Chicago': 15.4333,\n",
    "         'Washington': 7.1231,\n",
    "         }\n",
    "\n",
    "for city in tests:\n",
    "    assert abs(duration_in_mins(example_trips[city], city) - tests[city]) < .001"
   ]
  },
  {
   "cell_type": "markdown",
   "metadata": {},
   "source": [
    "Nothing prints; the tests passed. Now making some more helper functions."
   ]
  },
  {
   "cell_type": "code",
   "execution_count": 17,
   "metadata": {
    "collapsed": true
   },
   "outputs": [],
   "source": [
    "def time_of_trip(datum, city):\n",
    "    \"\"\"\n",
    "    Takes as input a dictionary containing info about a single trip (datum) and\n",
    "    its origin city (city) and returns the month, hour, and day of the week in\n",
    "    which the trip was made.\n",
    "    \n",
    "    Remember that NYC includes seconds, while Washington and Chicago do not.\n",
    "    \n",
    "    HINT: You should use the datetime module to parse the original date\n",
    "    strings into a format that is useful for extracting the desired information.\n",
    "    see https://docs.python.org/3/library/datetime.html#strftime-and-strptime-behavior\n",
    "    \"\"\"\n",
    "    \n",
    "    if city=='Chicago': #'3/31/2016 23:30'\n",
    "        time_string = datum['starttime']\n",
    "        #print(time_string)\n",
    "        time_obj = datetime.strptime(time_string, \"%m/%d/%Y %H:%M\")\n",
    "        \n",
    "        month = int(time_obj.strftime(\"%m\"))\n",
    "        hour = int(time_obj.strftime(\"%H\"))\n",
    "        day_of_week = time_obj.strftime(\"%A\")\n",
    "        \n",
    "        #print(month, hour, day_of_week)\n",
    "               \n",
    "    elif city=='NYC': #'1/1/2016 00:09:55'\n",
    "        time_string = datum['starttime']\n",
    "        #print(time_string)\n",
    "        time_obj = datetime.strptime(time_string, \"%m/%d/%Y %H:%M:%S\")\n",
    "        \n",
    "        month = int(time_obj.strftime(\"%m\"))\n",
    "        hour = int(time_obj.strftime(\"%H\"))\n",
    "        day_of_week = time_obj.strftime(\"%A\")\n",
    "        \n",
    "        #print(month, hour, day_of_week)\n",
    "    else: #'3/31/2016 22:57'\n",
    "        time_string = datum['Start date']\n",
    "        #print(time_string)\n",
    "        time_obj = datetime.strptime(time_string, \"%m/%d/%Y %H:%M\")\n",
    "        \n",
    "        month = int(time_obj.strftime(\"%m\"))\n",
    "        hour = int(time_obj.strftime(\"%H\"))\n",
    "        day_of_week = time_obj.strftime(\"%A\")\n",
    "        \n",
    "        #print(month, hour, day_of_week)\n",
    "  \n",
    "    return (month, hour, day_of_week)\n",
    "\n",
    "\n",
    "# Assertion tests\n",
    "tests = {'NYC': (1, 0, 'Friday'),\n",
    "         'Chicago': (3, 23, 'Thursday'),\n",
    "         'Washington': (3, 22, 'Thursday')}\n",
    "\n",
    "for city in tests:\n",
    "    assert time_of_trip(example_trips[city], city) == tests[city]\n",
    "\n",
    "#time_of_trip(example_trips['Washington'], 'Washington')"
   ]
  },
  {
   "cell_type": "code",
   "execution_count": 18,
   "metadata": {
    "collapsed": true
   },
   "outputs": [],
   "source": [
    "def type_of_user(datum, city):\n",
    "    \"\"\"\n",
    "    Takes as input a dictionary containing info about a single trip (datum) and\n",
    "    its origin city (city) and returns the type of system user that made the\n",
    "    trip.\n",
    "    \n",
    "    Remember that Washington has different category names compared to Chicago\n",
    "    and NYC. \n",
    "    \"\"\"\n",
    "    \n",
    "    if city=='Chicago':\n",
    "        user_type = datum['usertype']\n",
    "        #print(user_type)\n",
    "    elif city=='NYC':\n",
    "        user_type = datum['usertype']\n",
    "        #print(user_type)\n",
    "    else:\n",
    "        user_type = datum['Member Type']\n",
    "        if user_type == 'Registered':\n",
    "            user_type = 'Subscriber'\n",
    "        else:\n",
    "            user_type = 'Customer'\n",
    "            \n",
    "        #print(user_type)\n",
    "    return user_type\n",
    "\n",
    "\n",
    "# Assertion Tests\n",
    "tests = {'NYC': 'Customer',\n",
    "         'Chicago': 'Subscriber',\n",
    "         'Washington': 'Subscriber'}\n",
    "\n",
    "for city in tests:\n",
    "    assert type_of_user(example_trips[city], city) == tests[city]"
   ]
  },
  {
   "cell_type": "markdown",
   "metadata": {},
   "source": [
    "Below I'll use the helper functions above to create a condensed data file for each city consisting only of the data fields indicated above."
   ]
  },
  {
   "cell_type": "code",
   "execution_count": 19,
   "metadata": {
    "collapsed": true
   },
   "outputs": [],
   "source": [
    "def condense_data(in_file, out_file, city):\n",
    "    \"\"\"\n",
    "    This function takes full data from the specified input file\n",
    "    and writes the condensed data to a specified output file. The city\n",
    "    argument determines how the input file will be parsed.\n",
    "    \n",
    "    HINT: See the cell below to see how the arguments are structured!\n",
    "    \"\"\"\n",
    "    \n",
    "    with open(out_file, 'w') as f_out, open(in_file, 'r') as f_in:\n",
    "        # set up csv DictWriter object - writer requires column names for the\n",
    "        # first row as the \"fieldnames\" argument\n",
    "        out_colnames = ['duration', 'month', 'hour', 'day_of_week', 'user_type']        \n",
    "        trip_writer = csv.DictWriter(f_out, fieldnames = out_colnames)\n",
    "        trip_writer.writeheader()\n",
    "        \n",
    "        ## set up csv DictReader object ##\n",
    "        ##in_colnames - ['trip_id','starttime','stoptime','bikeid','tripduration','from_station_id','from_station_name',\n",
    "        ##               'to_station_id','to_station_name','usertype','gender','birthyear']\n",
    "        trip_reader = csv.DictReader(f_in)\n",
    "\n",
    "\n",
    "        # collect data from and process each row\n",
    "        for row in trip_reader:\n",
    "            # set up a dictionary to hold the values for the cleaned and trimmed\n",
    "            # data point\n",
    "            new_point = {}\n",
    "\n",
    "            ## use the helper functions to get the cleaned data from        ##\n",
    "            ## the original data dictionaries.                              ##\n",
    "            ## Note that the keys for the new_point dictionary should match ##\n",
    "            ## the column names set in the DictWriter object above.         ##\n",
    "            duration = duration_in_mins(row, city)\n",
    "            month, hour, day_of_week = time_of_trip(row, city)\n",
    "            user_type = type_of_user(row, city)\n",
    "            \n",
    "            new_point['duration'] = duration\n",
    "            new_point['month'] = month\n",
    "            new_point['hour'] = hour\n",
    "            new_point['day_of_week'] = day_of_week\n",
    "            new_point['user_type'] = user_type\n",
    "           \n",
    "            ## write the processed information to the output file.           ##\n",
    "            ## see https://docs.python.org/3/library/csv.html#writer-objects ##\n",
    "            trip_writer.writerow(new_point)\n",
    "            \n",
    "        "
   ]
  },
  {
   "cell_type": "code",
   "execution_count": 20,
   "metadata": {},
   "outputs": [
    {
     "name": "stdout",
     "output_type": "stream",
     "text": [
      "\n",
      "City: Washington\n",
      "OrderedDict([('duration', '7.123116666666666'),\n",
      "             ('month', '3'),\n",
      "             ('hour', '22'),\n",
      "             ('day_of_week', 'Thursday'),\n",
      "             ('user_type', 'Subscriber')])\n",
      "\n",
      "City: Chicago\n",
      "OrderedDict([('duration', '15.433333333333334'),\n",
      "             ('month', '3'),\n",
      "             ('hour', '23'),\n",
      "             ('day_of_week', 'Thursday'),\n",
      "             ('user_type', 'Subscriber')])\n",
      "\n",
      "City: NYC\n",
      "OrderedDict([('duration', '13.983333333333333'),\n",
      "             ('month', '1'),\n",
      "             ('hour', '0'),\n",
      "             ('day_of_week', 'Friday'),\n",
      "             ('user_type', 'Customer')])\n"
     ]
    }
   ],
   "source": [
    "# Verifying the data extracted\n",
    "city_info = {'Washington': {'in_file': './data/Washington-CapitalBikeshare-2016.csv',\n",
    "                            'out_file': './data/Washington-2016-Summary.csv'},\n",
    "             'Chicago': {'in_file': './data/Chicago-Divvy-2016.csv',\n",
    "                         'out_file': './data/Chicago-2016-Summary.csv'},\n",
    "             'NYC': {'in_file': './data/NYC-CitiBike-2016.csv',\n",
    "                     'out_file': './data/NYC-2016-Summary.csv'}}\n",
    "\n",
    "for city, filenames in city_info.items():\n",
    "    condense_data(filenames['in_file'], filenames['out_file'], city)\n",
    "    print_first_point(filenames['out_file'])"
   ]
  },
  {
   "cell_type": "markdown",
   "metadata": {},
   "source": [
    "<a id='eda'></a>\n",
    "## Exploratory Data Analysis\n",
    "\n",
    "Now onto exploring the data using some visualizations.\n",
    "<a id='statistics'></a>\n",
    "### Statistics\n",
    "\n",
    "We'll answer the following basic questions:\n",
    "\n",
    "- Which city has the highest number of trips? \n",
    "- Which city has the highest proportion of trips made by subscribers? \n",
    "- Which city has the highest proportion of trips made by short-term customers?"
   ]
  },
  {
   "cell_type": "code",
   "execution_count": 21,
   "metadata": {
    "collapsed": true
   },
   "outputs": [],
   "source": [
    "def number_of_trips(filename, city_name):\n",
    "    \"\"\"\n",
    "    This function reads in a file with trip data and reports the number of\n",
    "    trips made by subscribers, customers, and total overall.\n",
    "    \"\"\"\n",
    "    with open(filename, 'r') as f_in:\n",
    "        # set up csv reader object\n",
    "        reader = csv.DictReader(f_in)\n",
    "        \n",
    "        # initialize count variables\n",
    "        n_subscribers = 0\n",
    "        n_customers = 0\n",
    "        \n",
    "        # tally up ride types\n",
    "        for row in reader:\n",
    "            if row['user_type'] == 'Subscriber':\n",
    "                n_subscribers += 1\n",
    "            else:\n",
    "                n_customers += 1\n",
    "        \n",
    "        # compute total number of rides\n",
    "        n_total = n_subscribers + n_customers\n",
    "        proportion_rides_customers = n_customers/n_total\n",
    "        proportion_rides_subscribers = n_subscribers/n_total\n",
    "        \n",
    "        print(\"City: {}\".format(city_name))\n",
    "        print(\"Total rides: \\t\\t\\t{}\".format(n_total))\n",
    "        print(\"Subscriber rides: \\t\\t{}\".format(n_subscribers))\n",
    "        print(\"Customer rides: \\t\\t{}\".format(n_customers))\n",
    "        print(\"% of customer rides: \\t\\t{0:.2f}\".format(proportion_rides_customers*100)) # rounding off to two digits\n",
    "        print(\"% of subscriber rides: \\t\\t{0:.2f}\".format(proportion_rides_subscribers*100))\n",
    "        \n",
    "        # return tallies as a tuple\n",
    "        #return(n_subscribers, n_customers, n_total)"
   ]
  },
  {
   "cell_type": "code",
   "execution_count": 23,
   "metadata": {},
   "outputs": [
    {
     "name": "stdout",
     "output_type": "stream",
     "text": [
      "City: Chicago\n",
      "Total rides: \t\t\t72131\n",
      "Subscriber rides: \t\t54982\n",
      "Customer rides: \t\t17149\n",
      "% of customer rides: \t\t23.77\n",
      "% of subscriber rides: \t\t76.23\n"
     ]
    }
   ],
   "source": [
    "## Modify this and the previous cell to answer Question 4a. Remember to run ##\n",
    "## the function on the cleaned data files you created from Question 3.      ##\n",
    "\n",
    "data_file = './data/Chicago-2016-Summary.csv'\n",
    "number_of_trips(data_file, \"Chicago\")"
   ]
  },
  {
   "cell_type": "code",
   "execution_count": 24,
   "metadata": {},
   "outputs": [
    {
     "name": "stdout",
     "output_type": "stream",
     "text": [
      "City: NYC\n",
      "Total rides: \t\t\t276798\n",
      "Subscriber rides: \t\t245896\n",
      "Customer rides: \t\t30902\n",
      "% of customer rides: \t\t11.16\n",
      "% of subscriber rides: \t\t88.84\n"
     ]
    }
   ],
   "source": [
    "## Modify this and the previous cell to answer Question 4a. Remember to run ##\n",
    "## the function on the cleaned data files you created from Question 3.      ##\n",
    "\n",
    "data_file = './data/NYC-2016-Summary.csv'\n",
    "number_of_trips(data_file, \"NYC\")"
   ]
  },
  {
   "cell_type": "code",
   "execution_count": 25,
   "metadata": {
    "scrolled": true
   },
   "outputs": [
    {
     "name": "stdout",
     "output_type": "stream",
     "text": [
      "City: Washington\n",
      "Total rides: \t\t\t66326\n",
      "Subscriber rides: \t\t51753\n",
      "Customer rides: \t\t14573\n",
      "% of customer rides: \t\t21.97\n",
      "% of subscriber rides: \t\t78.03\n"
     ]
    }
   ],
   "source": [
    "## Modify this and the previous cell to answer Question 4a. Remember to run ##\n",
    "## the function on the cleaned data files you created from Question 3.      ##\n",
    "\n",
    "data_file = './data/Washington-2016-Summary.csv'\n",
    "number_of_trips(data_file, \"Washington\")"
   ]
  },
  {
   "cell_type": "markdown",
   "metadata": {},
   "source": [
    "<a id='sc1'></a>\n",
    "### Conclusion - City with highest number of trips\n",
    "- City with the highest number of trips: **NYC**\n",
    "- City with the highest proportion of trips made by subscribers: **NYC**\n",
    "- City has the highest proportion of trips made by short-term customers: **Chicago**\n",
    "- Customer trip proportion by city\n",
    "   \n",
    "   NYC: 11.16%<br> Chicago: 23.77%<br>Washington: 21.97%<br>"
   ]
  },
  {
   "cell_type": "markdown",
   "metadata": {},
   "source": [
    "### Question - Trip Length ###\n",
    "Bike-share systems are designed for riders to take short trips. Most of the time, users are allowed to take trips of 30 minutes or less with no additional charges, with overage charges made for trips of longer than that duration. What is the average trip length for each city? What proportion of rides made in each city are longer than 30 minutes?"
   ]
  },
  {
   "cell_type": "code",
   "execution_count": 26,
   "metadata": {
    "collapsed": true
   },
   "outputs": [],
   "source": [
    "def average_trip_length(filename):\n",
    "    \"\"\"\n",
    "    This function reads in a file with trip data and reports the\n",
    "    average duration in minutes of all the trips made in the city. It\n",
    "    also returns the proportion of trips longer than 30 minutes\n",
    "    \"\"\"\n",
    "    with open(filename, 'r') as f_in:\n",
    "        # set up csv reader object\n",
    "        reader = csv.DictReader(f_in)\n",
    "        \n",
    "        # initialize count variables\n",
    "        number_of_trips = 0\n",
    "        total_duration_all_trips = 0\n",
    "        long_trips = 0\n",
    "        \n",
    "        # count the total number of trips \n",
    "        # and get the total duration of trips\n",
    "        for row in reader:\n",
    "            duration_trip = float(row['duration'])\n",
    "            total_duration_all_trips += duration_trip\n",
    "            number_of_trips += 1\n",
    "            \n",
    "            if duration_trip>30:\n",
    "                long_trips += 1\n",
    "        \n",
    "        avg_trip_time = total_duration_all_trips/number_of_trips\n",
    "        long_trips_percent = (long_trips/number_of_trips)*100\n",
    "        \n",
    "        # return tallies as a tuple\n",
    "        return(avg_trip_time, long_trips_percent)"
   ]
  },
  {
   "cell_type": "code",
   "execution_count": 29,
   "metadata": {
    "scrolled": true
   },
   "outputs": [
    {
     "name": "stdout",
     "output_type": "stream",
     "text": [
      "(16.563629368787335, 8.332062497400562)\n",
      "(15.81259299802294, 7.3024371563378345)\n",
      "(18.93287355913721, 10.83888671109369)\n"
     ]
    }
   ],
   "source": [
    "data_file_Chicago = './data/Chicago-2016-Summary.csv'\n",
    "data_file_NYC = './data/NYC-2016-Summary.csv'\n",
    "data_file_Washington = './data/Washington-2016-Summary.csv'\n",
    "\n",
    "print(average_trip_length(data_file_Chicago))\n",
    "print(average_trip_length(data_file_NYC))\n",
    "print(average_trip_length(data_file_Washington))"
   ]
  },
  {
   "cell_type": "markdown",
   "metadata": {},
   "source": [
    "<a id='sc2'></a>\n",
    "### Conclusion - Trip Length ###\n",
    "\n",
    "Average trip length for the city and percentage of trips over 30 min\n",
    "- Chicago: 16.56 minutes, 8.33%, \n",
    "- NYC: 15.81 minutes, 7.30%, \n",
    "- Washington: 18.93 minutes, 10.84%"
   ]
  },
  {
   "cell_type": "markdown",
   "metadata": {},
   "source": [
    "### Question - Subscriber vs Customer riding time###\n",
    "I want to investigate which type of user takes longer rides on average: Subscribers or Customers?"
   ]
  },
  {
   "cell_type": "code",
   "execution_count": 30,
   "metadata": {
    "collapsed": true
   },
   "outputs": [],
   "source": [
    "def subscriber_vs_customer(filename):\n",
    "    \"\"\"\n",
    "    This function reads in a file with trip data and reports the average\n",
    "    duration in minutes of all the trips made by subscribers vs customers\n",
    "    \"\"\"\n",
    "    with open(filename, 'r') as f_in:\n",
    "        # set up csv reader object\n",
    "        reader = csv.DictReader(f_in)\n",
    "        \n",
    "        # initialize count variables\n",
    "        total_customer_trips_duration = 0\n",
    "        total_subscriber_trips_duration = 0\n",
    "        number_of_customer_trips = 0\n",
    "        number_of_subscriber_trips = 0\n",
    "        \n",
    "        # count the total number of trips \n",
    "        for row in reader:\n",
    "            duration_trip = float(row['duration'])\n",
    "            if row['user_type'] == 'Subscriber':\n",
    "                total_customer_trips_duration += duration_trip\n",
    "                number_of_customer_trips += 1\n",
    "            else:\n",
    "                total_subscriber_trips_duration += duration_trip\n",
    "                number_of_subscriber_trips += 1\n",
    "\n",
    "        # calculate avg customer and avg subscriber trip durations\n",
    "        avg_customer_trip_duration = total_customer_trips_duration/number_of_customer_trips\n",
    "        avg_subscriber_trip_duration = total_subscriber_trips_duration/number_of_subscriber_trips\n",
    "        \n",
    "        # return tallies as a tuple\n",
    "        return(avg_customer_trip_duration, avg_subscriber_trip_duration)\n"
   ]
  },
  {
   "cell_type": "code",
   "execution_count": 31,
   "metadata": {
    "scrolled": false
   },
   "outputs": [
    {
     "name": "stdout",
     "output_type": "stream",
     "text": [
      "(12.067201690250076, 30.979781133982506)\n",
      "(13.680790523907177, 32.77595139473187)\n",
      "(12.528120499294745, 41.67803139252976)\n"
     ]
    }
   ],
   "source": [
    "data_file_Chicago = './data/Chicago-2016-Summary.csv'\n",
    "data_file_NYC = './data/NYC-2016-Summary.csv'\n",
    "data_file_Washington = './data/Washington-2016-Summary.csv'\n",
    "\n",
    "print(subscriber_vs_customer(data_file_Chicago))\n",
    "print(subscriber_vs_customer(data_file_NYC))\n",
    "print(subscriber_vs_customer(data_file_Washington))"
   ]
  },
  {
   "cell_type": "markdown",
   "metadata": {},
   "source": [
    "<a id='sc3'></a>\n",
    "### Conclusion - Subscriber vs Consumer riding time ###\n",
    "Chicago: Subscriber takes longer rides(31 min) on average than customer does(12 min)\n",
    "NYC: Subscriber takes longer rides(33 min) on average than customer does(14 min)\n",
    "Washington: Subscriber takes longer rides(41 min) on average than customer does(13 min)\n",
    "\n",
    "We can conclude from the above observations that generally subscribers take longer rides than customers. This conclusion can impact business decisions. For example, the company might want to offer extra incentive to customers to subscribe to the service, or it might want to investigate this trend further to check correlation between riding time and user status."
   ]
  },
  {
   "cell_type": "markdown",
   "metadata": {},
   "source": [
    "<a id='visualizations'></a>\n",
    "### Visualizations\n",
    "Here is an interesting result. While the mean trip time for Subscribers is well under 30 minutes, the mean trip time for Customers is actually _above_ 30 minutes! It will be interesting for us to look at how the trip times are distributed. "
   ]
  },
  {
   "cell_type": "code",
   "execution_count": 45,
   "metadata": {
    "collapsed": true,
    "scrolled": true
   },
   "outputs": [],
   "source": [
    "# load library\n",
    "import matplotlib.pyplot as plt\n",
    "\n",
    "%matplotlib inline "
   ]
  },
  {
   "cell_type": "markdown",
   "metadata": {},
   "source": [
    "In the above cell, we collected fifty trip times in a list, and passed this list as the first argument to the `.hist()` function. This function performs the computations and creates plotting objects for generating a histogram, but the plot is actually not rendered until the `.show()` function is executed. The `.title()` and `.xlabel()` functions provide some labeling for plot context.\n",
    "\n",
    "You will now use these functions to create a histogram of the trip times for the city you selected in question 4c. Don't separate the Subscribers and Customers for now: just collect all of the trip times and plot them."
   ]
  },
  {
   "cell_type": "code",
   "execution_count": 48,
   "metadata": {
    "collapsed": true
   },
   "outputs": [],
   "source": [
    "## Use this and additional cells to collect all of the trip times as a list ##\n",
    "## and then use pyplot functions to generate a histogram of trip times.     ##\n",
    "\n",
    "def plot_trip_duration(filename):\n",
    "    \"\"\"\n",
    "    This function takes in a csv file and parses the\n",
    "    trip_duration into a list. It then takes the list\n",
    "    and generates a histogram of trip times\n",
    "    \"\"\"\n",
    "    trip_duration_list = []\n",
    "    \n",
    "    with open(filename, 'r') as f_in:\n",
    "        # read the file into a dictionary\n",
    "        reader = csv.DictReader(f_in)\n",
    "        \n",
    "        for row in reader:\n",
    "            # get duration from the row, convert\n",
    "            # it to float and add it to the list\n",
    "            trip_duration = float(row['duration'])\n",
    "            trip_duration_list.append(trip_duration)\n",
    "    \n",
    "    plt.hist(trip_duration_list)\n",
    "    plt.title('Distribution of Trip Durations for Chicago')\n",
    "    plt.xlabel('Duration (minutes)')\n",
    "    plt.show()"
   ]
  },
  {
   "cell_type": "code",
   "execution_count": 49,
   "metadata": {
    "scrolled": true
   },
   "outputs": [
    {
     "data": {
      "image/png": "[encoded data removed]",
      "text/plain": [
       "<matplotlib.figure.Figure at 0x14faa716a58>"
      ]
     },
     "metadata": {},
     "output_type": "display_data"
    },
    {
     "name": "stdout",
     "output_type": "stream",
     "text": [
      "None\n"
     ]
    }
   ],
   "source": [
    "data_file_Chicago = './data/Chicago-2016-Summary.csv'\n",
    "\n",
    "print(plot_trip_duration(data_file_Chicago))"
   ]
  },
  {
   "cell_type": "markdown",
   "metadata": {},
   "source": [
    "The plot here suggests that there are some highly infrequent outliers in the data. I'll try to plot the graph again adding limits to the plots. Here I'll plot the graph for Customers and Subscribers for duration less than 75 min. I am setting the bars to five minute intervals for better analysis."
   ]
  },
  {
   "cell_type": "code",
   "execution_count": 64,
   "metadata": {
    "collapsed": true
   },
   "outputs": [],
   "source": [
    "def plot_trip_duration_subscribers_customers(filename):\n",
    "    \"\"\"\n",
    "    This function takes in a csv file and parses the\n",
    "    trip_duration into a list. It then takes the list\n",
    "    and generates a histogram of trip times\n",
    "    \"\"\"\n",
    "    trip_duration_list_subscribers = []\n",
    "    trip_duration_list_customers = []\n",
    "    \n",
    "    with open(filename, 'r') as f_in:\n",
    "        # read the file into a dictionary\n",
    "        reader = csv.DictReader(f_in)\n",
    "        \n",
    "        for row in reader:\n",
    "            # get duration from the row, convert\n",
    "            # it to float and add it to the list\n",
    "            trip_duration = float(row['duration'])\n",
    "            if row['user_type'] == \"Subscriber\":\n",
    "                trip_duration_list_subscribers.append(trip_duration)\n",
    "            else:\n",
    "                trip_duration_list_customers.append(trip_duration)\n",
    "      \n",
    "    plt.hist(trip_duration_list_subscribers, range(0,75,5))\n",
    "    plt.title('Distribution of Subscribers Trip Durations for Chicago')\n",
    "    plt.xlabel('Duration (minutes)')\n",
    "    plt.ylabel('Number of trips')\n",
    "    plt.show();\n",
    "\n",
    "    plt.hist(trip_duration_list_customers, range(0,75,5))\n",
    "    plt.title('Distribution of Customers Trip Durations for Chicago')\n",
    "    plt.xlabel('Duration (minutes)')\n",
    "    plt.ylabel('Number of trips')\n",
    "    plt.show();\n"
   ]
  },
  {
   "cell_type": "code",
   "execution_count": 65,
   "metadata": {
    "scrolled": false
   },
   "outputs": [
    {
     "data": {
      "image/png": "[encoded data removed]",
      "text/plain": [
       "<matplotlib.figure.Figure at 0x14faa28f828>"
      ]
     },
     "metadata": {},
     "output_type": "display_data"
    },
    {
     "data": {
      "image/png": "[encoded data removed]",
      "text/plain": [
       "<matplotlib.figure.Figure at 0x14faa96bcc0>"
      ]
     },
     "metadata": {},
     "output_type": "display_data"
    },
    {
     "name": "stdout",
     "output_type": "stream",
     "text": [
      "None\n"
     ]
    }
   ],
   "source": [
    "data_file_Chicago = './data/Chicago-2016-Summary.csv'\n",
    "\n",
    "print(plot_trip_duration_subscribers_customers(data_file_Chicago));"
   ]
  },
  {
   "cell_type": "markdown",
   "metadata": {},
   "source": [
    "### Conclusion ##\n",
    "For Subscribers the peak is between 5 and 10; for customers the peak is between 20 and 25. In both cases the graph is skewed to the right. For subscribers the majority trips were over 10 minutes while for customers the majority of the trips were over 25 minutes."
   ]
  },
  {
   "cell_type": "markdown",
   "metadata": {
    "collapsed": true
   },
   "source": [
    "<a id='eda_continued'></a>\n",
    "## Performing Further Analysis - Chicago ##\n",
    "\n",
    "- How does ridership differ by month or season? Which month / season has the highest ridership? Does the ratio of Subscriber trips to Customer trips change depending on the month or season?\n",
    "- Is the pattern of ridership different on the weekends versus weekdays? On what days are Subscribers most likely to use the system? What about Customers? Does the average duration of rides change depending on the day of the week?\n",
    "- During what time of day is the system used the most? Is there a difference in usage patterns for Subscribers and Customers?"
   ]
  },
  {
   "cell_type": "code",
   "execution_count": 66,
   "metadata": {
    "collapsed": true
   },
   "outputs": [],
   "source": [
    "## Use this and additional cells to continue to explore the dataset. ##\n",
    "## Once you have performed your exploration, document your findings  ##\n",
    "## in the Markdown cell above.                                       ##\n",
    "\n",
    "def get_ridership_by_month_and_day_of_week(filename):\n",
    "    \"\"\"\n",
    "    This function takes in a csv file and counts\n",
    "    the trips grouped by month. It then generates\n",
    "    a bar graph of the trips\n",
    "    \"\"\"\n",
    "    month_count_dict_customer = {1:0,2:0,3:0,4:0,5:0,6:0,7:0,8:0,9:0,10:0,11:0,12:0}\n",
    "    month_count_dict_subscriber = {1:0,2:0,3:0,4:0,5:0,6:0,7:0,8:0,9:0,10:0,11:0,12:0}\n",
    "    \n",
    "    week_count_dict_customer = {'Monday':0,'Tuesday':0,'Wednesday':0,'Thursday':0,'Friday':0,'Saturday':0,'Sunday':0}\n",
    "    week_count_dict_subscriber = {'Monday':0,'Tuesday':0,'Wednesday':0,'Thursday':0,'Friday':0,'Saturday':0,'Sunday':0}\n",
    "    \n",
    "    with open(filename, 'r') as f_in:\n",
    "        # read the file into a dictionary\n",
    "        reader = csv.DictReader(f_in)\n",
    "        \n",
    "        for row in reader:\n",
    "            # get month from the row and\n",
    "            # add it to the dictionary\n",
    "            trip_month = int(row['month'])\n",
    "            trip_day_of_week = row['day_of_week']\n",
    "\n",
    "            if row['user_type'] == \"Subscriber\":\n",
    "                month_count_dict_subscriber[trip_month] += 1\n",
    "                week_count_dict_subscriber[trip_day_of_week] += 1\n",
    "            else:\n",
    "                month_count_dict_customer[trip_month] += 1\n",
    "                week_count_dict_customer[trip_day_of_week] += 1\n",
    "    \n",
    "    # plotting monthly trip counts by subscriber and customer\n",
    "    plot_bar_from_dict(month_count_dict_subscriber,'Monthly','Subscriber')\n",
    "    plot_bar_from_dict(month_count_dict_subscriber,'Monthly','Customer')\n",
    "    \n",
    "    # plotting weekly trip counts by subscriber and customer\n",
    "    plot_bar_from_dict(week_count_dict_subscriber,'Weekly','Subscriber')\n",
    "    plot_bar_from_dict(week_count_dict_customer,'Weekly','Customer')\n",
    "\n",
    "    \n",
    "\n",
    "def plot_bar_from_dict(dict_month,duration,user_type):\n",
    "    #plot the list using a histogram\n",
    "    %matplotlib inline\n",
    "\n",
    "    title = \"Distribution of {} {} Trip Durations for Chicago\".format(duration, user_type)\n",
    "    plt.bar(dict_month.keys(), dict_month.values())\n",
    "    plt.title(title)\n",
    "    plt.xlabel(duration.title()) # capitalize the duration\n",
    "    plt.show()\n",
    "    "
   ]
  },
  {
   "cell_type": "code",
   "execution_count": 67,
   "metadata": {
    "scrolled": false
   },
   "outputs": [
    {
     "data": {
      "image/png": "[encoded data removed]",
      "text/plain": [
       "<matplotlib.figure.Figure at 0x14fa7a520b8>"
      ]
     },
     "metadata": {},
     "output_type": "display_data"
    },
    {
     "data": {
      "image/png": "[encoded data removed]",
      "text/plain": [
       "<matplotlib.figure.Figure at 0x14faa2ac160>"
      ]
     },
     "metadata": {},
     "output_type": "display_data"
    },
    {
     "data": {
      "image/png": "[encoded data removed]",
      "text/plain": [
       "<matplotlib.figure.Figure at 0x14fa63ded30>"
      ]
     },
     "metadata": {},
     "output_type": "display_data"
    },
    {
     "data": {
      "image/png": "[encoded data removed]",
      "text/plain": [
       "<matplotlib.figure.Figure at 0x14fa91577b8>"
      ]
     },
     "metadata": {},
     "output_type": "display_data"
    },
    {
     "name": "stdout",
     "output_type": "stream",
     "text": [
      "None\n"
     ]
    }
   ],
   "source": [
    "data_file_Chicago = './data/Chicago-2016-Summary.csv'\n",
    "\n",
    "print(get_ridership_by_month_and_day_of_week(data_file_Chicago))"
   ]
  },
  {
   "cell_type": "markdown",
   "metadata": {},
   "source": [
    "<a id='conclusions'></a>\n",
    "### Conclusions - Chicago\n",
    "#### Monthly trip duration analysis for subscriber and customers\n",
    "Maximum trips are in Summer, peaking in June, for both customers and subscribers. December and January record the lowest number of trips for both categories\n",
    "\n",
    "#### Weekly trip duration analysis for subscriber and customers\n",
    "Subscribers take a markedly higher number of trips during the weekdays while customers take theor major share of trips during the weekends"
   ]
  },
  {
   "cell_type": "code",
   "execution_count": null,
   "metadata": {
    "collapsed": true
   },
   "outputs": [],
   "source": []
  }
 ],
 "metadata": {
  "anaconda-cloud": {},
  "kernelspec": {
   "display_name": "Python 3",
   "language": "python",
   "name": "python3"
  },
  "language_info": {
   "codemirror_mode": {
    "name": "ipython",
    "version": 3
   },
   "file_extension": ".py",
   "mimetype": "text/x-python",
   "name": "python",
   "nbconvert_exporter": "python",
   "pygments_lexer": "ipython3",
   "version": "3.6.3"
  }
 },
 "nbformat": 4,
 "nbformat_minor": 1
}
